{
  "cells": [
    {
      "cell_type": "markdown",
      "metadata": {
        "id": "QBr7nRwzgpZ-"
      },
      "source": [
        "# Open-source ETL tools:"
      ]
    },
    {
      "cell_type": "markdown",
      "metadata": {
        "id": "WJo6rb5kjQXX"
      },
      "source": [
        "This script sets up an Airflow environment, initializes the database, and defines a simple ETL DAG. The DAG extracts data, transforms it by adding a new column, and then loads the data, with tasks executed in sequence."
      ]
    },
    {
      "cell_type": "code",
      "execution_count": null,
      "metadata": {
        "id": "JGb5Cu9ylbdP"
      },
      "outputs": [],
      "source": [
        "# Install necessary packages\n",
        "!pip install apache-airflow==2.7.0 pandas"
      ]
    },
    {
      "cell_type": "code",
      "execution_count": null,
      "metadata": {
        "collapsed": true,
        "id": "aGIb_ipUlDLV"
      },
      "outputs": [],
      "source": [
        "\n",
        "# Set up Airflow home directory and environment variables\n",
        "import os\n",
        "os.environ['AIRFLOW_HOME'] = '/content/airflow'\n",
        "\n",
        "# Create necessary directories\n",
        "os.makedirs('/content/airflow/dags', exist_ok=True)\n",
        "\n",
        "# Initialize Airflow database\n",
        "!airflow db init\n",
        "\n",
        "# Define your DAG script\n",
        "dag_script = \"\"\"\n",
        "from airflow import DAG\n",
        "from airflow.operators.python_operator import PythonOperator\n",
        "from datetime import datetime, timedelta\n",
        "import pandas as pd\n",
        "\n",
        "default_args = {\n",
        "    'owner': 'dataops_team',\n",
        "    'depends_on_past': False,\n",
        "    'start_date': datetime(2023, 1, 1),\n",
        "    'email_on_failure': False,\n",
        "    'email_on_retry': False,\n",
        "    'retries': 1,\n",
        "    'retry_delay': timedelta(minutes=5),\n",
        "}\n",
        "\n",
        "dag = DAG(\n",
        "    'sample_etl_pipeline',\n",
        "    default_args=default_args,\n",
        "    description='A simple ETL pipeline using Airflow',\n",
        "    schedule_interval=timedelta(days=1),\n",
        ")\n",
        "\n",
        "def extract_data(**kwargs):\n",
        "    data = pd.DataFrame({'id': range(1, 6), 'value': [10, 20, 30, 40, 50]})\n",
        "    kwargs['ti'].xcom_push(key='extracted_data', value=data.to_json())\n",
        "    print(\"Data extracted.\")\n",
        "\n",
        "def transform_data(**kwargs):\n",
        "    ti = kwargs['ti']\n",
        "    data_json = ti.xcom_pull(key='extracted_data', task_ids='extract_task')\n",
        "    data = pd.read_json(data_json)\n",
        "    data['value_squared'] = data['value'] ** 2\n",
        "    ti.xcom_push(key='transformed_data', value=data.to_json())\n",
        "    print(\"Data transformed.\")\n",
        "\n",
        "def load_data(**kwargs):\n",
        "    ti = kwargs['ti']\n",
        "    data_json = ti.xcom_pull(key='transformed_data', task_ids='transform_task')\n",
        "    data = pd.read_json(data_json)\n",
        "    print(\"Loading data:\", data)\n",
        "\n",
        "extract_task = PythonOperator(\n",
        "    task_id='extract_task',\n",
        "    python_callable=extract_data,\n",
        "    provide_context=True,\n",
        "    dag=dag,\n",
        ")\n",
        "\n",
        "transform_task = PythonOperator(\n",
        "    task_id='transform_task',\n",
        "    python_callable=transform_data,\n",
        "    provide_context=True,\n",
        "    dag=dag,\n",
        ")\n",
        "\n",
        "load_task = PythonOperator(\n",
        "    task_id='load_task',\n",
        "    python_callable=load_data,\n",
        "    provide_context=True,\n",
        "    dag=dag,\n",
        ")\n",
        "\n",
        "extract_task >> transform_task >> load_task\n",
        "\"\"\"\n",
        "\n"
      ]
    },
    {
      "cell_type": "code",
      "execution_count": 3,
      "metadata": {
        "colab": {
          "base_uri": "https://localhost:8080/"
        },
        "id": "1je8aE1xlnbB",
        "outputId": "2c076623-e22d-4136-c3c9-4a8bd705d986"
      },
      "outputs": [
        {
          "name": "stdout",
          "output_type": "stream",
          "text": [
            "DAG script saved to: /content/airflow/dags/sample_etl_pipeline.py\n"
          ]
        }
      ],
      "source": [
        "# Save the DAG script to a file\n",
        "dag_path = '/content/airflow/dags/sample_etl_pipeline.py'\n",
        "os.makedirs(os.path.dirname(dag_path), exist_ok=True)  # Ensure the directory exists\n",
        "with open(dag_path, 'w') as f:\n",
        "    f.write(dag_script)\n",
        "\n",
        "print(\"DAG script saved to:\", dag_path)"
      ]
    },
    {
      "cell_type": "markdown",
      "metadata": {
        "id": "UKOXryRzsoST"
      },
      "source": [
        "# Cloud-based ETL services:"
      ]
    },
    {
      "cell_type": "markdown",
      "metadata": {
        "id": "vqJsSLj2jZLR"
      },
      "source": [
        "\n",
        "This code mounts Google Drive, initializes a Spark session, creates a synthetic dataset, converts it from a Pandas DataFrame to a Spark DataFrame, applies transformations, and saves the transformed data to Google Drive"
      ]
    },
    {
      "cell_type": "code",
      "execution_count": null,
      "metadata": {
        "colab": {
          "base_uri": "https://localhost:8080/"
        },
        "id": "aGpxeitNvB1K",
        "outputId": "d60d4111-2dce-4a8b-99c7-19f4e2e182a7"
      },
      "outputs": [],
      "source": [
        "!pip install pyspark\n"
      ]
    },
    {
      "cell_type": "code",
      "execution_count": 5,
      "metadata": {
        "colab": {
          "base_uri": "https://localhost:8080/"
        },
        "id": "02X6U_j3fjz7",
        "outputId": "7a88863a-465b-4dd2-c86e-59e8e2b375ff"
      },
      "outputs": [
        {
          "name": "stdout",
          "output_type": "stream",
          "text": [
            "Mounted at /content/drive\n",
            "Transformation and save completed.\n"
          ]
        }
      ],
      "source": [
        "# Mount Google Drive\n",
        "from google.colab import drive\n",
        "drive.mount('/content/drive')\n",
        "\n",
        "\n",
        "\n",
        "# Import necessary libraries\n",
        "import pandas as pd\n",
        "from pyspark.sql import SparkSession\n",
        "from pyspark.sql.functions import col\n",
        "\n",
        "# Initialize Spark session\n",
        "spark = SparkSession.builder.appName(\"DataOpsPipeline\").getOrCreate()\n",
        "\n",
        "# Create a synthetic dataset using Pandas\n",
        "data = {\n",
        "    \"id\": [1, 2, 3, 4, 5],\n",
        "    \"name\": [\"Alice\", \"Bob\", \"Charlie\", \"David\", \"Eve\"],\n",
        "    \"age\": [25, 30, 35, 40, 45]\n",
        "}\n",
        "pdf = pd.DataFrame(data)\n",
        "\n",
        "# Convert Pandas DataFrame to Spark DataFrame\n",
        "raw_data = spark.createDataFrame(pdf)\n",
        "\n",
        "# Apply transformations\n",
        "transformed_data = raw_data.select(\n",
        "    col(\"id\").cast(\"long\").alias(\"id\"),\n",
        "    col(\"name\").cast(\"string\").alias(\"full_name\"),\n",
        "    col(\"age\").cast(\"long\").alias(\"age\")\n",
        ").dropna()\n",
        "\n",
        "# Define the output path in Google Drive\n",
        "output_path = \"/content/drive/My Drive/path_to_your_transformed_data/\"\n",
        "\n",
        "# Write transformed data back to Google Drive\n",
        "transformed_data.write.parquet(output_path, mode=\"overwrite\")\n",
        "\n",
        "print(\"Transformation and save completed.\")\n"
      ]
    },
    {
      "cell_type": "markdown",
      "metadata": {
        "id": "DCNIvPj3dA3U"
      },
      "source": [
        "# Building custom ETL pipelines:"
      ]
    },
    {
      "cell_type": "markdown",
      "metadata": {
        "id": "NRI9ROr-jnxv"
      },
      "source": [
        "The pipeline uses a custom class for the ETL process, logs its operations, and handles errors. It also creates a sample CSV file, allows for file uploads, and demonstrates reading the transformed data from the SQLite database"
      ]
    },
    {
      "cell_type": "code",
      "execution_count": 7,
      "metadata": {
        "colab": {
          "base_uri": "https://localhost:8080/",
          "height": 177
        },
        "id": "_LH-gRmJwS83",
        "outputId": "7e41039a-a80c-4004-ab76-1ead37e508bd"
      },
      "outputs": [
        {
          "name": "stdout",
          "output_type": "stream",
          "text": [
            "Sample CSV file created at: /content/sample_data.csv\n"
          ]
        },
        {
          "data": {
            "text/html": [
              "\n",
              "     <input type=\"file\" id=\"files-119f0197-d001-4d46-a627-4e8b0e396d81\" name=\"files[]\" multiple disabled\n",
              "        style=\"border:none\" />\n",
              "     <output id=\"result-119f0197-d001-4d46-a627-4e8b0e396d81\">\n",
              "      Upload widget is only available when the cell has been executed in the\n",
              "      current browser session. Please rerun this cell to enable.\n",
              "      </output>\n",
              "      <script>// Copyright 2017 Google LLC\n",
              "//\n",
              "// Licensed under the Apache License, Version 2.0 (the \"License\");\n",
              "// you may not use this file except in compliance with the License.\n",
              "// You may obtain a copy of the License at\n",
              "//\n",
              "//      http://www.apache.org/licenses/LICENSE-2.0\n",
              "//\n",
              "// Unless required by applicable law or agreed to in writing, software\n",
              "// distributed under the License is distributed on an \"AS IS\" BASIS,\n",
              "// WITHOUT WARRANTIES OR CONDITIONS OF ANY KIND, either express or implied.\n",
              "// See the License for the specific language governing permissions and\n",
              "// limitations under the License.\n",
              "\n",
              "/**\n",
              " * @fileoverview Helpers for google.colab Python module.\n",
              " */\n",
              "(function(scope) {\n",
              "function span(text, styleAttributes = {}) {\n",
              "  const element = document.createElement('span');\n",
              "  element.textContent = text;\n",
              "  for (const key of Object.keys(styleAttributes)) {\n",
              "    element.style[key] = styleAttributes[key];\n",
              "  }\n",
              "  return element;\n",
              "}\n",
              "\n",
              "// Max number of bytes which will be uploaded at a time.\n",
              "const MAX_PAYLOAD_SIZE = 100 * 1024;\n",
              "\n",
              "function _uploadFiles(inputId, outputId) {\n",
              "  const steps = uploadFilesStep(inputId, outputId);\n",
              "  const outputElement = document.getElementById(outputId);\n",
              "  // Cache steps on the outputElement to make it available for the next call\n",
              "  // to uploadFilesContinue from Python.\n",
              "  outputElement.steps = steps;\n",
              "\n",
              "  return _uploadFilesContinue(outputId);\n",
              "}\n",
              "\n",
              "// This is roughly an async generator (not supported in the browser yet),\n",
              "// where there are multiple asynchronous steps and the Python side is going\n",
              "// to poll for completion of each step.\n",
              "// This uses a Promise to block the python side on completion of each step,\n",
              "// then passes the result of the previous step as the input to the next step.\n",
              "function _uploadFilesContinue(outputId) {\n",
              "  const outputElement = document.getElementById(outputId);\n",
              "  const steps = outputElement.steps;\n",
              "\n",
              "  const next = steps.next(outputElement.lastPromiseValue);\n",
              "  return Promise.resolve(next.value.promise).then((value) => {\n",
              "    // Cache the last promise value to make it available to the next\n",
              "    // step of the generator.\n",
              "    outputElement.lastPromiseValue = value;\n",
              "    return next.value.response;\n",
              "  });\n",
              "}\n",
              "\n",
              "/**\n",
              " * Generator function which is called between each async step of the upload\n",
              " * process.\n",
              " * @param {string} inputId Element ID of the input file picker element.\n",
              " * @param {string} outputId Element ID of the output display.\n",
              " * @return {!Iterable<!Object>} Iterable of next steps.\n",
              " */\n",
              "function* uploadFilesStep(inputId, outputId) {\n",
              "  const inputElement = document.getElementById(inputId);\n",
              "  inputElement.disabled = false;\n",
              "\n",
              "  const outputElement = document.getElementById(outputId);\n",
              "  outputElement.innerHTML = '';\n",
              "\n",
              "  const pickedPromise = new Promise((resolve) => {\n",
              "    inputElement.addEventListener('change', (e) => {\n",
              "      resolve(e.target.files);\n",
              "    });\n",
              "  });\n",
              "\n",
              "  const cancel = document.createElement('button');\n",
              "  inputElement.parentElement.appendChild(cancel);\n",
              "  cancel.textContent = 'Cancel upload';\n",
              "  const cancelPromise = new Promise((resolve) => {\n",
              "    cancel.onclick = () => {\n",
              "      resolve(null);\n",
              "    };\n",
              "  });\n",
              "\n",
              "  // Wait for the user to pick the files.\n",
              "  const files = yield {\n",
              "    promise: Promise.race([pickedPromise, cancelPromise]),\n",
              "    response: {\n",
              "      action: 'starting',\n",
              "    }\n",
              "  };\n",
              "\n",
              "  cancel.remove();\n",
              "\n",
              "  // Disable the input element since further picks are not allowed.\n",
              "  inputElement.disabled = true;\n",
              "\n",
              "  if (!files) {\n",
              "    return {\n",
              "      response: {\n",
              "        action: 'complete',\n",
              "      }\n",
              "    };\n",
              "  }\n",
              "\n",
              "  for (const file of files) {\n",
              "    const li = document.createElement('li');\n",
              "    li.append(span(file.name, {fontWeight: 'bold'}));\n",
              "    li.append(span(\n",
              "        `(${file.type || 'n/a'}) - ${file.size} bytes, ` +\n",
              "        `last modified: ${\n",
              "            file.lastModifiedDate ? file.lastModifiedDate.toLocaleDateString() :\n",
              "                                    'n/a'} - `));\n",
              "    const percent = span('0% done');\n",
              "    li.appendChild(percent);\n",
              "\n",
              "    outputElement.appendChild(li);\n",
              "\n",
              "    const fileDataPromise = new Promise((resolve) => {\n",
              "      const reader = new FileReader();\n",
              "      reader.onload = (e) => {\n",
              "        resolve(e.target.result);\n",
              "      };\n",
              "      reader.readAsArrayBuffer(file);\n",
              "    });\n",
              "    // Wait for the data to be ready.\n",
              "    let fileData = yield {\n",
              "      promise: fileDataPromise,\n",
              "      response: {\n",
              "        action: 'continue',\n",
              "      }\n",
              "    };\n",
              "\n",
              "    // Use a chunked sending to avoid message size limits. See b/62115660.\n",
              "    let position = 0;\n",
              "    do {\n",
              "      const length = Math.min(fileData.byteLength - position, MAX_PAYLOAD_SIZE);\n",
              "      const chunk = new Uint8Array(fileData, position, length);\n",
              "      position += length;\n",
              "\n",
              "      const base64 = btoa(String.fromCharCode.apply(null, chunk));\n",
              "      yield {\n",
              "        response: {\n",
              "          action: 'append',\n",
              "          file: file.name,\n",
              "          data: base64,\n",
              "        },\n",
              "      };\n",
              "\n",
              "      let percentDone = fileData.byteLength === 0 ?\n",
              "          100 :\n",
              "          Math.round((position / fileData.byteLength) * 100);\n",
              "      percent.textContent = `${percentDone}% done`;\n",
              "\n",
              "    } while (position < fileData.byteLength);\n",
              "  }\n",
              "\n",
              "  // All done.\n",
              "  yield {\n",
              "    response: {\n",
              "      action: 'complete',\n",
              "    }\n",
              "  };\n",
              "}\n",
              "\n",
              "scope.google = scope.google || {};\n",
              "scope.google.colab = scope.google.colab || {};\n",
              "scope.google.colab._files = {\n",
              "  _uploadFiles,\n",
              "  _uploadFilesContinue,\n",
              "};\n",
              "})(self);\n",
              "</script> "
            ],
            "text/plain": [
              "<IPython.core.display.HTML object>"
            ]
          },
          "metadata": {},
          "output_type": "display_data"
        },
        {
          "name": "stdout",
          "output_type": "stream",
          "text": [
            "Saving sample_data.csv to sample_data (1).csv\n",
            "  first_name last_name  age    full_name age_group\n",
            "0       John       Doe   28     John Doe     19-35\n",
            "1       Jane     Smith   34   Jane Smith     19-35\n",
            "2        Jim     Brown   45    Jim Brown     36-50\n",
            "3       Jill    Taylor   23  Jill Taylor     19-35\n"
          ]
        }
      ],
      "source": [
        "import pandas as pd\n",
        "from sqlalchemy import create_engine\n",
        "import logging\n",
        "import sqlite3\n",
        "from google.colab import files\n",
        "\n",
        "# Set up logging\n",
        "logging.basicConfig(level=logging.INFO)\n",
        "logger = logging.getLogger(__name__)\n",
        "\n",
        "class CustomETLPipeline:\n",
        "    def __init__(self, source_file, target_db_url):\n",
        "        self.source_file = source_file\n",
        "        self.target_engine = create_engine(target_db_url)\n",
        "\n",
        "    def extract(self):\n",
        "        logger.info(\"Extracting data from CSV file\")\n",
        "        return pd.read_csv(self.source_file)\n",
        "\n",
        "    def transform(self, df):\n",
        "        logger.info(\"Applying transformations\")\n",
        "        # Example transformations\n",
        "        df['full_name'] = df['first_name'] + ' ' + df['last_name']\n",
        "        df['age_group'] = pd.cut(df['age'], bins=[0, 18, 35, 50, 100], labels=['0-18', '19-35', '36-50', '50+'])\n",
        "        return df\n",
        "\n",
        "    def load(self, df):\n",
        "        logger.info(\"Loading data into the database\")\n",
        "        df.to_sql('transformed_data', self.target_engine, if_exists='replace', index=False)\n",
        "\n",
        "    def run(self):\n",
        "        try:\n",
        "            data = self.extract()\n",
        "            transformed_data = self.transform(data)\n",
        "            self.load(transformed_data)\n",
        "            logger.info(\"ETL process completed successfully\")\n",
        "        except Exception as e:\n",
        "            logger.error(f\"ETL process failed: {str(e)}\")\n",
        "\n",
        "# Create a sample CSV file\n",
        "data = {\n",
        "    'first_name': ['John', 'Jane', 'Jim', 'Jill'],\n",
        "    'last_name': ['Doe', 'Smith', 'Brown', 'Taylor'],\n",
        "    'age': [28, 34, 45, 23]\n",
        "}\n",
        "df = pd.DataFrame(data)\n",
        "csv_file = '/content/sample_data.csv'\n",
        "df.to_csv(csv_file, index=False)\n",
        "\n",
        "print(f\"Sample CSV file created at: {csv_file}\")\n",
        "\n",
        "# Upload a new file if needed\n",
        "uploaded = files.upload()\n",
        "source_file = next(iter(uploaded), csv_file)  # Use uploaded file or default to the sample CSV\n",
        "\n",
        "# Use SQLite for demonstration\n",
        "target_db_url = 'sqlite:///transformed_data.db'\n",
        "\n",
        "# Create ETL pipeline and run\n",
        "etl_pipeline = CustomETLPipeline(source_file, target_db_url)\n",
        "etl_pipeline.run()\n",
        "\n",
        "# Check the content of the SQLite database\n",
        "try:\n",
        "    conn = sqlite3.connect('transformed_data.db')\n",
        "    df_loaded = pd.read_sql_query(\"SELECT * FROM transformed_data\", conn)\n",
        "    print(df_loaded)\n",
        "except Exception as e:\n",
        "    logger.error(f\"Failed to read from the database: {str(e)}\")\n",
        "finally:\n",
        "    conn.close()\n"
      ]
    }
  ],
  "metadata": {
    "colab": {
      "provenance": []
    },
    "kernelspec": {
      "display_name": "Python 3",
      "name": "python3"
    },
    "language_info": {
      "name": "python"
    }
  },
  "nbformat": 4,
  "nbformat_minor": 0
}
