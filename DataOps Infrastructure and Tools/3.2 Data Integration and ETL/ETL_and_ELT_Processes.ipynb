{
  "cells": [
    {
      "cell_type": "markdown",
      "metadata": {
        "id": "fwrf9aKXjtyM"
      },
      "source": [
        "# Traditional ETL workflows"
      ]
    },
    {
      "cell_type": "markdown",
      "metadata": {
        "id": "FcnvBM-1j02w"
      },
      "source": [
        "- This ETL workflow generates synthetic sales and product data in-memory, performs transformations through cleaning and aggregation operations, and then loads the aggregated results into an SQLite database,"
      ]
    },
    {
      "cell_type": "code",
      "execution_count": null,
      "metadata": {
        "id": "sfTZhqA6m6ca"
      },
      "outputs": [],
      "source": [
        "import pandas as pd\n",
        "from sqlalchemy import create_engine"
      ]
    },
    {
      "cell_type": "code",
      "execution_count": null,
      "metadata": {
        "id": "LiDnjUwhnAH_"
      },
      "outputs": [],
      "source": [
        "\"\"\"Generates  DataFrame for 'sales.csv'.Dont Alter this code\"\"\"\n",
        "def generate_sales_data():\n",
        "    data = {\n",
        "        'ORDERNUM': [10187, 10121, 10134, 10145, 10159, 10168, 10180, 10188, 10201, 10211],\n",
        "        'QUANTITY': [30, 34, 41, 45, 49, 36, 29, 48, 22, 41],\n",
        "        'PRICEEACH': [95.7, 81.35, 94.74, 83.26, 100, 96.66, 86.13, 100, 98.57, 100],\n",
        "        'SALES': [2871, 2765.9, 3884.34, 3746.7, 5205.27, 3479.76, 2497.77, 5512.32, 2168.54, 4708.44],\n",
        "        'STATUS': ['Shipped']*10\n",
        "    }\n",
        "    df = pd.DataFrame(data)\n",
        "    df['ORDERDATE'] = pd.date_range(start='2003-02-24', periods=10, freq='M')\n",
        "    return df\n",
        "\n",
        "\"\"\"Generates DataFrame for 'products.csv'.Dont Alter this code\"\"\"\n",
        "def generate_products_data():\n",
        "    data = {\n",
        "        'product_id': [101, 102, 103, 104, 105, 106, 107, 108, 109, 110],\n",
        "        'category': ['Electronics', 'Clothing', 'Kitchenware', 'Electronics', 'Clothing', 'Kitchenware', 'Electronics', 'Clothing', 'Kitchenware', 'Electronics']\n",
        "    }\n",
        "    return pd.DataFrame(data)\n",
        "\n",
        "# Generate data\n",
        "sales_df = generate_sales_data()\n",
        "products_df = generate_products_data()"
      ]
    },
    {
      "cell_type": "code",
      "execution_count": null,
      "metadata": {
        "colab": {
          "base_uri": "https://localhost:8080/"
        },
        "id": "SGTzVovQnc2M",
        "outputId": "d7ffa0b8-83b3-4a41-f2a0-a30b82099505"
      },
      "outputs": [
        {
          "name": "stdout",
          "output_type": "stream",
          "text": [
            "Sales DataFrame:\n",
            "   ORDERNUM  QUANTITY  PRICEEACH    SALES   STATUS  ORDERDATE  total_amount\n",
            "0     10187        30      95.70  2871.00  Shipped 2003-02-28       2871.00\n",
            "1     10121        34      81.35  2765.90  Shipped 2003-03-31       2765.90\n",
            "2     10134        41      94.74  3884.34  Shipped 2003-04-30       3884.34\n",
            "3     10145        45      83.26  3746.70  Shipped 2003-05-31       3746.70\n",
            "4     10159        49     100.00  5205.27  Shipped 2003-06-30       4900.00\n",
            "5     10168        36      96.66  3479.76  Shipped 2003-07-31       3479.76\n",
            "6     10180        29      86.13  2497.77  Shipped 2003-08-31       2497.77\n",
            "7     10188        48     100.00  5512.32  Shipped 2003-09-30       4800.00\n",
            "8     10201        22      98.57  2168.54  Shipped 2003-10-31       2168.54\n",
            "9     10211        41     100.00  4708.44  Shipped 2003-11-30       4100.00\n",
            "\n",
            "Products DataFrame:\n",
            "   product_id     category\n",
            "0         101  Electronics\n",
            "1         102     Clothing\n",
            "2         103  Kitchenware\n",
            "3         104  Electronics\n",
            "4         105     Clothing\n",
            "5         106  Kitchenware\n",
            "6         107  Electronics\n",
            "7         108     Clothing\n",
            "8         109  Kitchenware\n",
            "9         110  Electronics\n"
          ]
        }
      ],
      "source": [
        "print(\"Sales DataFrame:\")\n",
        "print(sales_df)\n",
        "print(\"\\nProducts DataFrame:\")\n",
        "print(products_df)"
      ]
    },
    {
      "cell_type": "code",
      "execution_count": null,
      "metadata": {
        "colab": {
          "base_uri": "https://localhost:8080/"
        },
        "id": "JR7sJwQ8Al3A",
        "outputId": "c7f9ff77-c1de-4086-d031-51f0e3836c8d"
      },
      "outputs": [
        {
          "name": "stdout",
          "output_type": "stream",
          "text": [
            "ETL process completed successfully.\n"
          ]
        }
      ],
      "source": [
        "# Data transformation functions\n",
        "def clean_sales(df):\n",
        "    df['total_amount'] = df['QUANTITY'] * df['PRICEEACH']\n",
        "    return df\n",
        "\n",
        "sales_cleaned = clean_sales(sales_df)\n",
        "sales_with_products = pd.merge(sales_cleaned, products_df, left_on='ORDERNUM', right_on='product_id')\n",
        "\n",
        "# Additional transformations\n",
        "sales_summary = sales_with_products.groupby(['ORDERDATE', 'category']).agg({\n",
        "    'total_amount': 'sum',\n",
        "    'QUANTITY': 'sum'\n",
        "}).reset_index()\n",
        "\n",
        "# Load: Write to a database using SQLite\n",
        "engine = create_engine('sqlite:///:memory:')  # Using in-memory SQLite database\n",
        "sales_summary.to_sql('sales_summary', engine, if_exists='replace', index=False)\n",
        "\n",
        "print(\"ETL process completed successfully.\")"
      ]
    },
    {
      "cell_type": "markdown",
      "metadata": {
        "id": "P9EL1zjMlNvK"
      },
      "source": [
        "# ELT and the modern data stack"
      ]
    },
    {
      "cell_type": "markdown",
      "metadata": {
        "id": "EJhB-9j7ldS_"
      },
      "source": [
        "- demonstrates an ELT workflow where raw data is first loaded into BigQuery, and then transformations are performed using SQL within the data warehouse itself."
      ]
    },
    {
      "cell_type": "code",
      "execution_count": null,
      "metadata": {
        "id": "fZcUpIp4T5De"
      },
      "outputs": [],
      "source": [
        "# Install necessary packages\n",
        "!pip install pandasql"
      ]
    },
    {
      "cell_type": "code",
      "execution_count": null,
      "metadata": {
        "id": "WxkXR3dcXwjM"
      },
      "outputs": [],
      "source": [
        "import pandas as pd\n",
        "import numpy as np\n",
        "from datetime import datetime, timedelta\n",
        "from pandasql import sqldf"
      ]
    },
    {
      "cell_type": "code",
      "execution_count": null,
      "metadata": {
        "colab": {
          "base_uri": "https://localhost:8080/"
        },
        "id": "ckjgHRedXzx2",
        "outputId": "0ef0dcb0-aa0f-4a64-f47e-253ba7e10849"
      },
      "outputs": [
        {
          "name": "stdout",
          "output_type": "stream",
          "text": [
            "Sales DataFrame:\n",
            "   ORDER_ID  PRODUCT_ID  QUANTITY  PRICE_EACH                 ORDER_DATE  \\\n",
            "0     10100       10171        32       99.18 2024-08-08 06:15:59.790025   \n",
            "1     10101       10187        35       93.06 2024-08-07 06:15:59.790033   \n",
            "2     10102       10113        41       92.70 2024-08-06 06:15:59.790037   \n",
            "3     10103       10158        20       99.91 2024-08-05 06:15:59.790038   \n",
            "4     10104       10181        23       91.64 2024-08-04 06:15:59.790040   \n",
            "\n",
            "     SALES     STATUS  \n",
            "0  3173.76    Pending  \n",
            "1  3257.10    Pending  \n",
            "2  3800.70  Cancelled  \n",
            "3  1998.20    Shipped  \n",
            "4  2107.72    Pending  \n",
            "\n",
            "Products DataFrame:\n",
            "   PRODUCT_ID     CATEGORY\n",
            "0       10177     Clothing\n",
            "1       10122    Furniture\n",
            "2       10161     Clothing\n",
            "3       10167     Clothing\n",
            "4       10113  Electronics\n"
          ]
        }
      ],
      "source": [
        "\"\"\"Generates DataFrame for 'sales.csv' and 'products.csv'.Dont Alter this code\"\"\"\n",
        "# Define the number of entries\n",
        "num_entries = 100\n",
        "\n",
        "# Generate random sales data\n",
        "np.random.seed(0)\n",
        "order_ids = np.arange(10100, 10100 + num_entries)\n",
        "quantities = np.random.randint(20, 50, size=num_entries)\n",
        "price_each = np.random.uniform(80, 100, size=num_entries).round(2)\n",
        "order_dates = [datetime.now() - timedelta(days=i) for i in range(num_entries)]\n",
        "sales = (quantities * price_each).round(2)\n",
        "statuses = np.random.choice(['Shipped', 'Pending', 'Cancelled'], size=num_entries)\n",
        "\n",
        "# Create DataFrame\n",
        "sales_df = pd.DataFrame({\n",
        "    'ORDER_ID': order_ids,\n",
        "    'PRODUCT_ID': np.random.choice(order_ids, size=num_entries),  # Add PRODUCT_ID column\n",
        "    'QUANTITY': quantities,\n",
        "    'PRICE_EACH': price_each,\n",
        "    'ORDER_DATE': order_dates,\n",
        "    'SALES': sales,\n",
        "    'STATUS': statuses\n",
        "})\n",
        "\n",
        "# Display the DataFrame\n",
        "print(\"Sales DataFrame:\")\n",
        "print(sales_df.head())\n",
        "\n",
        "\n",
        "product_ids = np.random.choice(order_ids, size=num_entries // 2, replace=False)\n",
        "categories = np.random.choice(['Electronics', 'Clothing', 'Furniture'], size=num_entries // 2)\n",
        "\n",
        "# Create DataFrame\n",
        "products_df = pd.DataFrame({\n",
        "    'PRODUCT_ID': product_ids,\n",
        "    'CATEGORY': categories\n",
        "})\n",
        "\n",
        "\n",
        "print(\"\\nProducts DataFrame:\")\n",
        "print(products_df.head())"
      ]
    },
    {
      "cell_type": "code",
      "execution_count": null,
      "metadata": {
        "colab": {
          "base_uri": "https://localhost:8080/"
        },
        "id": "bsQAOm4SX3kH",
        "outputId": "a18844b8-95e4-4b61-9bee-7a3d7fda8866"
      },
      "outputs": [
        {
          "name": "stdout",
          "output_type": "stream",
          "text": [
            "Drive already mounted at /content/drive; to attempt to forcibly remount, call drive.mount(\"/content/drive\", force_remount=True).\n"
          ]
        }
      ],
      "source": [
        "# Mount Google Drive\n",
        "from google.colab import drive\n",
        "drive.mount('/content/drive')\n",
        "\n",
        "# Set file paths\n",
        "sales_file_path = '/content/drive/My Drive/sales_data.csv'\n",
        "products_file_path = '/content/drive/My Drive/products_data.csv'\n",
        "output_file_path = '/content/drive/My Drive/sales_summary.csv'\n",
        "\n",
        "# Save DataFrames as CSV\n",
        "sales_df.to_csv(sales_file_path, index=False)\n",
        "products_df.to_csv(products_file_path, index=False)"
      ]
    },
    {
      "cell_type": "code",
      "execution_count": null,
      "metadata": {
        "colab": {
          "base_uri": "https://localhost:8080/"
        },
        "id": "AtZwz313Vx8_",
        "outputId": "dca27c90-b1df-4cd1-8434-a8cf634ed485"
      },
      "outputs": [
        {
          "name": "stdout",
          "output_type": "stream",
          "text": [
            "\n",
            "Transformed Data:\n",
            "     sale_date     category  total_amount  total_quantity\n",
            "0   2024-05-01  Electronics       1938.00              24\n",
            "1   2024-05-03     Clothing       3872.80              40\n",
            "2   2024-05-05    Furniture       3917.25              45\n",
            "3   2024-05-08     Clothing       2087.02              23\n",
            "4   2024-05-11     Clothing       3851.65              47\n",
            "5   2024-05-12     Clothing       3147.54              38\n",
            "6   2024-05-14    Furniture       2679.02              31\n",
            "7   2024-05-15     Clothing       4273.34              43\n",
            "8   2024-05-17    Furniture       2093.92              23\n",
            "9   2024-05-20     Clothing       2215.62              27\n",
            "10  2024-05-21     Clothing       2048.97              21\n",
            "11  2024-05-22     Clothing       1994.58              21\n",
            "12  2024-05-24    Furniture       3944.96              46\n",
            "13  2024-05-27  Electronics       2148.00              24\n",
            "14  2024-05-28     Clothing       3233.30              35\n",
            "15  2024-05-30  Electronics       3384.40              40\n",
            "16  2024-06-01  Electronics       2422.94              26\n",
            "17  2024-06-02    Furniture       2294.25              25\n",
            "18  2024-06-03    Furniture       4071.71              41\n",
            "19  2024-06-07    Furniture       1941.28              22\n",
            "20  2024-06-09    Furniture       3539.76              43\n",
            "21  2024-06-10    Furniture       3783.66              38\n",
            "22  2024-06-11    Furniture       2758.38              31\n",
            "23  2024-06-16     Clothing       1758.40              20\n",
            "24  2024-06-18     Clothing       2571.43              29\n",
            "25  2024-06-22    Furniture       2819.62              34\n",
            "26  2024-06-26     Clothing       3430.44              39\n",
            "27  2024-06-28    Furniture       4260.52              44\n",
            "28  2024-06-30  Electronics       3680.30              38\n",
            "29  2024-07-02    Furniture       2994.25              35\n",
            "30  2024-07-03     Clothing       2858.10              35\n",
            "31  2024-07-06     Clothing       3246.48              36\n",
            "32  2024-07-07    Furniture       3794.70              39\n",
            "33  2024-07-11     Clothing       3221.13              33\n",
            "34  2024-07-14  Electronics       3226.03              37\n",
            "35  2024-07-15     Clothing       4381.96              44\n",
            "36  2024-07-16    Furniture       3020.22              34\n",
            "37  2024-07-19     Clothing       2108.86              26\n",
            "38  2024-07-20    Furniture       1893.99              21\n",
            "39  2024-07-22  Electronics       3182.08              32\n",
            "40  2024-07-24    Furniture       4068.24              44\n",
            "41  2024-07-26     Clothing       4009.75              43\n",
            "42  2024-07-28     Clothing       3631.66              38\n",
            "43  2024-07-29     Clothing       3539.94              41\n",
            "44  2024-08-02     Clothing       2058.27              23\n",
            "45  2024-08-03     Clothing       4149.63              47\n",
            "46  2024-08-06  Electronics       3800.70              41\n",
            "47  2024-08-08    Furniture       3173.76              32\n",
            "ELT process completed successfully.\n"
          ]
        }
      ],
      "source": [
        "# Helper function to use pandasql\n",
        "def pysqldf(q):\n",
        "    return sqldf(q, globals())\n",
        "\n",
        "# Transformation query\n",
        "transformed_query = \"\"\"\n",
        "SELECT\n",
        "    DATE(s.ORDER_DATE) AS sale_date,\n",
        "    p.CATEGORY AS category,\n",
        "    SUM(s.QUANTITY * s.PRICE_EACH) AS total_amount,\n",
        "    SUM(s.QUANTITY) AS total_quantity\n",
        "FROM\n",
        "    sales_df s\n",
        "JOIN\n",
        "    products_df p ON s.PRODUCT_ID = p.PRODUCT_ID\n",
        "GROUP BY\n",
        "    DATE(s.ORDER_DATE), p.CATEGORY\n",
        "\"\"\"\n",
        "\n",
        "# Run the query and store the result in a DataFrame\n",
        "result_df = pysqldf(transformed_query)\n",
        "\n",
        "# Display the resulting DataFrame\n",
        "print(\"\\nTransformed Data:\")\n",
        "print(result_df)\n",
        "\n",
        "# Save the transformed data to CSV\n",
        "result_df.to_csv(output_file_path, index=False)\n",
        "\n",
        "print(\"ELT process completed successfully.\")"
      ]
    },
    {
      "cell_type": "markdown",
      "metadata": {
        "id": "pk0EWpj0loey"
      },
      "source": [
        "# Choosing between ETL and ELT"
      ]
    },
    {
      "cell_type": "markdown",
      "metadata": {
        "id": "_5drEMvolvBW"
      },
      "source": [
        "- This example provides a simple framework for evaluating the factors that influence the choice between ETL\n",
        "and ELT. In practice, the decision may involve more nuanced considerations and might benefit from a hybrid\n",
        "approach in some cases"
      ]
    },
    {
      "cell_type": "code",
      "execution_count": null,
      "metadata": {
        "colab": {
          "base_uri": "https://localhost:8080/"
        },
        "id": "PPGjqN9IZrxv",
        "outputId": "80234e78-3e7f-4d19-e66e-ff0fe6e808a9"
      },
      "outputs": [
        {
          "name": "stdout",
          "output_type": "stream",
          "text": [
            "Recommended approach: ELT\n"
          ]
        }
      ],
      "source": [
        "def choose_integration_approach(data_volume, transformation_complexity, real_time_requirements, data_sensitivity, target_system_capabilities):\n",
        "    score_etl = 0\n",
        "    score_elt = 0\n",
        "\n",
        "    if data_volume == 'high':\n",
        "        score_etl += 1\n",
        "    else:\n",
        "        score_elt += 1\n",
        "\n",
        "    if transformation_complexity == 'high':\n",
        "        score_etl += 1\n",
        "    else:\n",
        "        score_elt += 1\n",
        "\n",
        "    if real_time_requirements:\n",
        "        score_etl += 1\n",
        "    else:\n",
        "        score_elt += 1\n",
        "\n",
        "    if data_sensitivity == 'high':\n",
        "        score_etl += 1\n",
        "    else:\n",
        "        score_elt += 1\n",
        "\n",
        "    if target_system_capabilities == 'high':\n",
        "        score_elt += 1\n",
        "    else:\n",
        "        score_etl += 1\n",
        "\n",
        "    if score_etl > score_elt:\n",
        "        return 'ETL'\n",
        "    elif score_elt > score_etl:\n",
        "        return 'ELT'\n",
        "    else:\n",
        "        return 'Consider hybrid approach or further analysis'\n",
        "\n",
        "# Example usage of the function\n",
        "approach = choose_integration_approach(\n",
        "    data_volume='high',\n",
        "    transformation_complexity='low',\n",
        "    real_time_requirements=True,\n",
        "    data_sensitivity='low',\n",
        "    target_system_capabilities='high'\n",
        ")\n",
        "\n",
        "print(f\"Recommended approach: {approach}\")"
      ]
    }
  ],
  "metadata": {
    "colab": {
      "provenance": []
    },
    "kernelspec": {
      "display_name": "Python 3",
      "name": "python3"
    },
    "language_info": {
      "name": "python"
    }
  },
  "nbformat": 4,
  "nbformat_minor": 0
}
