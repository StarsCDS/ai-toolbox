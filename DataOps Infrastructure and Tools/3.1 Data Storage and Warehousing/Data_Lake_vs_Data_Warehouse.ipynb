{
  "cells": [
    {
      "cell_type": "markdown",
      "metadata": {
        "id": "yjC8NAHrUT5K"
      },
      "source": [
        "# Data Lake"
      ]
    },
    {
      "cell_type": "markdown",
      "metadata": {
        "id": "lCfyJFE6etZb"
      },
      "source": [
        "This example demonstrates how raw data can be stored in their original JSON format within a data lake, preserving its flexibility for future analysis and processing.\n",
        "This code mounts Google Drive, saves raw JSON data to a file in Google Drive, and then reads and displays the contents of the JSON file."
      ]
    },
    {
      "cell_type": "code",
      "execution_count": null,
      "metadata": {
        "colab": {
          "base_uri": "https://localhost:8080/"
        },
        "id": "DhhXKVdDmQYc",
        "outputId": "8ad408ed-9706-4712-b1dd-f52630408197"
      },
      "outputs": [
        {
          "name": "stdout",
          "output_type": "stream",
          "text": [
            "Drive already mounted at /content/drive; to attempt to forcibly remount, call drive.mount(\"/content/drive\", force_remount=True).\n",
            "Data stored in Google Drive at: /content/drive/My Drive/event_12345.json\n",
            "Contents of the JSON file:\n",
            "{\n",
            "    \"user_id\": 12345,\n",
            "    \"timestamp\": \"2023-05-01T12:34:56Z\",\n",
            "    \"event_type\": \"purchase\",\n",
            "    \"product_id\": \"ABC123\",\n",
            "    \"amount\": 99.99\n",
            "}\n"
          ]
        }
      ],
      "source": [
        "from google.colab import drive\n",
        "import json\n",
        "\n",
        "# Mount Google Drive\n",
        "drive.mount('/content/drive')\n",
        "\n",
        "# Raw JSON data\n",
        "raw_data = {\n",
        "    'user_id': 12345,\n",
        "    'timestamp': '2023-05-01T12:34:56Z',\n",
        "    'event_type': 'purchase',\n",
        "    'product_id': 'ABC123',\n",
        "    'amount': 99.99\n",
        "}\n",
        "\n",
        "# Define the file path in Google Drive\n",
        "file_path = '/content/drive/My Drive/event_12345.json'\n",
        "\n",
        "# Save raw data to a JSON file\n",
        "with open(file_path, 'w') as json_file:\n",
        "    json.dump(raw_data, json_file)\n",
        "\n",
        "print(f\"Data stored in Google Drive at: {file_path}\")\n",
        "\n",
        "# Read and display the JSON data\n",
        "with open(file_path, 'r') as json_file:\n",
        "    data = json.load(json_file)\n",
        "\n",
        "print(\"Contents of the JSON file:\")\n",
        "print(json.dumps(data, indent=4))\n"
      ]
    },
    {
      "cell_type": "markdown",
      "metadata": {
        "id": "plLIb_iOhhkz"
      },
      "source": [
        "# Data warehouse architectures"
      ]
    },
    {
      "cell_type": "markdown",
      "metadata": {
        "id": "0Oybwa4ce6TY"
      },
      "source": [
        "This code creates an SQLite database with three tables (dim_product, dim_customer, fact_sales), inserts sample data into them, and executes a SQL query to aggregate and summarize sales data by product category and customer segment, displaying the results in a Pandas DataFrame."
      ]
    },
    {
      "cell_type": "code",
      "execution_count": null,
      "metadata": {
        "id": "zxmYbARBhjA7"
      },
      "outputs": [],
      "source": [
        "import sqlite3\n",
        "import pandas as pd\n",
        "\n",
        "# Connect to SQLite database (creates the database if it doesn't exist)\n",
        "conn = sqlite3.connect('sales_data.db')\n",
        "cursor = conn.cursor()\n",
        "\n",
        "# Create tables\n",
        "cursor.execute('''\n",
        "CREATE TABLE IF NOT EXISTS dim_product (\n",
        "    product_id INTEGER PRIMARY KEY,\n",
        "    product_category TEXT\n",
        ")\n",
        "''')\n",
        "\n",
        "cursor.execute('''\n",
        "CREATE TABLE IF NOT EXISTS dim_customer (\n",
        "    customer_id INTEGER PRIMARY KEY,\n",
        "    customer_segment TEXT\n",
        ")\n",
        "''')\n",
        "\n",
        "cursor.execute('''\n",
        "CREATE TABLE IF NOT EXISTS fact_sales (\n",
        "    sale_id INTEGER PRIMARY KEY,\n",
        "    product_id INTEGER,\n",
        "    customer_id INTEGER,\n",
        "    sales_amount REAL,\n",
        "    sale_date TEXT,\n",
        "    FOREIGN KEY (product_id) REFERENCES dim_product (product_id),\n",
        "    FOREIGN KEY (customer_id) REFERENCES dim_customer (customer_id)\n",
        ")\n",
        "''')\n",
        "\n",
        "# Insert sample data\n",
        "cursor.executemany('''\n",
        "INSERT INTO dim_product (product_id, product_category) VALUES (?, ?)\n",
        "''', [(1, 'Electronics'), (2, 'Furniture'), (3, 'Clothing')])\n",
        "\n",
        "cursor.executemany('''\n",
        "INSERT INTO dim_customer (customer_id, customer_segment) VALUES (?, ?)\n",
        "''', [(1, 'Retail'), (2, 'Wholesale'), (3, 'Online')])\n",
        "\n",
        "cursor.executemany('''\n",
        "INSERT INTO fact_sales (sale_id, product_id, customer_id, sales_amount, sale_date) VALUES (?, ?, ?, ?, ?)\n",
        "''', [\n",
        "    (1, 1, 1, 1200.50, '2023-01-15'),\n",
        "    (2, 1, 2, 800.75, '2023-02-20'),\n",
        "    (3, 2, 1, 1500.00, '2023-03-10'),\n",
        "    (4, 3, 3, 500.25, '2023-01-25'),\n",
        "    (5, 2, 2, 300.00, '2023-02-28')\n",
        "])\n",
        "\n",
        "# Commit changes\n",
        "conn.commit()\n"
      ]
    },
    {
      "cell_type": "code",
      "execution_count": null,
      "metadata": {
        "colab": {
          "base_uri": "https://localhost:8080/"
        },
        "id": "zfTU2_Cdhi-L",
        "outputId": "9c0a393a-6591-4508-b487-b7cd1e54ea0d"
      },
      "outputs": [
        {
          "name": "stdout",
          "output_type": "stream",
          "text": [
            "  product_category customer_segment  total_sales  avg_sales  unique_customers\n",
            "0        Furniture           Retail      1500.00    1500.00                 1\n",
            "1      Electronics           Retail      1200.50    1200.50                 1\n",
            "2      Electronics        Wholesale       800.75     800.75                 1\n",
            "3         Clothing           Online       500.25     500.25                 1\n",
            "4        Furniture        Wholesale       300.00     300.00                 1\n"
          ]
        }
      ],
      "source": [
        "# SQL query to analyze sales data from a data warehouse\n",
        "query = '''\n",
        "SELECT\n",
        "    p.product_category,\n",
        "    c.customer_segment,\n",
        "    SUM(f.sales_amount) as total_sales,\n",
        "    AVG(f.sales_amount) as avg_sales,\n",
        "    COUNT(DISTINCT f.customer_id) as unique_customers\n",
        "FROM\n",
        "    fact_sales f\n",
        "JOIN\n",
        "    dim_product p ON f.product_id = p.product_id\n",
        "JOIN\n",
        "    dim_customer c ON f.customer_id = c.customer_id\n",
        "WHERE\n",
        "    f.sale_date BETWEEN '2023-01-01' AND '2023-03-31'\n",
        "GROUP BY\n",
        "    p.product_category, c.customer_segment\n",
        "ORDER BY\n",
        "    total_sales DESC\n",
        "LIMIT 10;\n",
        "'''\n",
        "\n",
        "# Execute query and fetch results\n",
        "df = pd.read_sql_query(query, conn)\n",
        "print(df)\n"
      ]
    },
    {
      "cell_type": "code",
      "execution_count": null,
      "metadata": {
        "id": "LMDWmMtyhimb"
      },
      "outputs": [],
      "source": [
        "conn.close()\n"
      ]
    },
    {
      "cell_type": "markdown",
      "metadata": {
        "id": "JCt9Xj-K-Xym"
      },
      "source": [
        "# Hybrid approaches: Data lakehouse"
      ]
    },
    {
      "cell_type": "markdown",
      "metadata": {
        "id": "k77IoIQlg-7p"
      },
      "source": [
        "This example demonstrates how a data lake house can support SQL-like queries on large datasets stored in open formats, combining the flexibility of a data lake with the analytical capabilities of a data warehouse."
      ]
    },
    {
      "cell_type": "markdown",
      "metadata": {
        "id": "7rcQ6KCfhAwA"
      },
      "source": [
        "1. *Set Up Environment :  The code sets Spark and Java environment variables, then initializes a Spark session.*\n",
        "2. *Create DataFrames and Perform SQL Query :  Two example DataFrames are created, registered as temporary views, and an SQL query aggregates sales data by product category.*\n",
        "3. *Display Results :  The query results are displayed, showcasing data querying capabilities in a Spark-based data lakehouse environment.*"
      ]
    },
    {
      "cell_type": "code",
      "execution_count": null,
      "metadata": {
        "colab": {
          "base_uri": "https://localhost:8080/"
        },
        "id": "rrSoczo3-dqH",
        "outputId": "20dbfaee-cea5-40a1-92e1-ce896ca21235"
      },
      "outputs": [],
      "source": [
        "# Install necessary packages\n",
        "!apt-get install openjdk-11-jdk-headless -qq > /dev/null\n",
        "!pip install pyspark"
      ]
    },
    {
      "cell_type": "code",
      "execution_count": null,
      "metadata": {
        "id": "5xy_g00P-ds2"
      },
      "outputs": [],
      "source": [
        "import os\n",
        "from pyspark.sql import SparkSession\n",
        "\n",
        "# Set Spark environment variables\n",
        "os.environ[\"SPARK_HOME\"] = \"/usr/local/lib/python3.10/dist-packages/pyspark\"\n",
        "os.environ[\"JAVA_HOME\"] = \"/usr/lib/jvm/java-11-openjdk-amd64\"\n",
        "\n",
        "# Initialize Spark session\n",
        "spark = SparkSession.builder \\\n",
        "    .appName(\"DataLakehouseQuery\") \\\n",
        "    .getOrCreate()\n"
      ]
    },
    {
      "cell_type": "code",
      "execution_count": null,
      "metadata": {
        "id": "-YX14_My-nu-"
      },
      "outputs": [],
      "source": [
        "# Create example dataframes (use CSV format for simplicity)\n",
        "sales_data = spark.createDataFrame([\n",
        "    (1, '2023-01-15', 'P001', 150.00),\n",
        "    (2, '2023-02-17', 'P002', 200.00),\n",
        "    (3, '2023-03-20', 'P001', 250.00),\n",
        "    (4, '2023-03-25', 'P003', 300.00),\n",
        "], [\"id\", \"sale_date\", \"product_id\", \"amount\"])\n",
        "\n",
        "product_data = spark.createDataFrame([\n",
        "    ('P001', 'Electronics'),\n",
        "    ('P002', 'Clothing'),\n",
        "    ('P003', 'Electronics'),\n",
        "], [\"product_id\", \"category\"])\n",
        "\n",
        "# Register dataframes as temporary views\n",
        "sales_data.createOrReplaceTempView(\"sales\")\n",
        "product_data.createOrReplaceTempView(\"products\")"
      ]
    },
    {
      "cell_type": "code",
      "execution_count": null,
      "metadata": {
        "colab": {
          "base_uri": "https://localhost:8080/"
        },
        "id": "hXr5gBvc-nse",
        "outputId": "e351b452-6875-4ffd-dd41-252faba49f6d"
      },
      "outputs": [
        {
          "name": "stdout",
          "output_type": "stream",
          "text": [
            "+-----------+-----------+------------------+\n",
            "|   category|total_sales|   avg_sale_amount|\n",
            "+-----------+-----------+------------------+\n",
            "|Electronics|      700.0|233.33333333333334|\n",
            "|   Clothing|      200.0|             200.0|\n",
            "+-----------+-----------+------------------+\n",
            "\n"
          ]
        }
      ],
      "source": [
        "# Perform SQL query\n",
        "result = spark.sql(\"\"\"\n",
        "SELECT\n",
        "    p.category,\n",
        "    SUM(s.amount) as total_sales,\n",
        "    AVG(s.amount) as avg_sale_amount\n",
        "FROM\n",
        "    sales s\n",
        "JOIN\n",
        "    products p ON s.product_id = p.product_id\n",
        "WHERE\n",
        "    s.sale_date >= '2023-01-01'\n",
        "GROUP BY\n",
        "    p.category\n",
        "ORDER BY\n",
        "    total_sales DESC\n",
        "LIMIT 5\n",
        "\"\"\")\n",
        "\n",
        "# Show results\n",
        "result.show()\n"
      ]
    }
  ],
  "metadata": {
    "colab": {
      "provenance": []
    },
    "kernelspec": {
      "display_name": "Python 3",
      "name": "python3"
    },
    "language_info": {
      "name": "python"
    }
  },
  "nbformat": 4,
  "nbformat_minor": 0
}
