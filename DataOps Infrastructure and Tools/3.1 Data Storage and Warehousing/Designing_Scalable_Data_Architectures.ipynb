{
  "cells": [
    {
      "cell_type": "markdown",
      "metadata": {
        "id": "l57FxZpzvcki"
      },
      "source": [
        "# Distributed storage systems"
      ]
    },
    {
      "cell_type": "markdown",
      "metadata": {},
      "source": [
        "The code creates a PyArrow table, writes it to a local Parquet file, reads the file back, and converts it to a pandas DataFrame for display. It also lists files in the local directory. This is a basic example of file handling .In contrast to the textbook, using HDFS for such tasks in a Python environment is a more complex approach."
      ]
    },
    {
      "cell_type": "code",
      "execution_count": null,
      "metadata": {
        "colab": {
          "base_uri": "https://localhost:8080/"
        },
        "id": "V02lmkDnvX3i",
        "outputId": "d64d5ec6-0c3c-443e-eff5-06dd723de6ed"
      },
      "outputs": [],
      "source": [
        "!pip install pyarrow"
      ]
    },
    {
      "cell_type": "code",
      "execution_count": 2,
      "metadata": {
        "colab": {
          "base_uri": "https://localhost:8080/"
        },
        "id": "fGb-pR3qvXwk",
        "outputId": "d90222c3-a527-4d26-9046-88d6367659ac"
      },
      "outputs": [
        {
          "name": "stdout",
          "output_type": "stream",
          "text": [
            "   id value\n",
            "0   1     a\n",
            "1   2     b\n",
            "2   3     c\n",
            "Files in '/content':\n",
            ".config\n",
            "data.parquet\n",
            "sample_data\n"
          ]
        }
      ],
      "source": [
        "import pyarrow as pa\n",
        "import pyarrow.parquet as pq\n",
        "import pandas as pd\n",
        "\n",
        "# Create a table\n",
        "data = pa.table({'id': [1, 2, 3], 'value': ['a', 'b', 'c']})\n",
        "\n",
        "# Define the file path\n",
        "file_path = '/content/data.parquet'\n",
        "\n",
        "# Write data to local Parquet file\n",
        "pq.write_table(data, file_path)\n",
        "\n",
        "# Read data from local Parquet file\n",
        "read_data = pq.read_table(file_path)\n",
        "\n",
        "# Convert to pandas DataFrame and print\n",
        "df = read_data.to_pandas()\n",
        "print(df)\n",
        "\n",
        "# List files in the local directory\n",
        "import os\n",
        "files = os.listdir('/content')\n",
        "print(\"Files in '/content':\")\n",
        "for file in files:\n",
        "    print(file)\n"
      ]
    },
    {
      "cell_type": "markdown",
      "metadata": {
        "id": "akD11wfXpjY8"
      },
      "source": [
        "# Partitioning and sharding strategies"
      ]
    },
    {
      "cell_type": "markdown",
      "metadata": {
        "id": "kRtycNEFqHoz"
      },
      "source": [
        "- This example demonstrates range-based partitioning in SQL, where sales data is automatically distributed into quarterly partitions based on the sale date."
      ]
    },
    {
      "cell_type": "code",
      "execution_count": null,
      "metadata": {
        "colab": {
          "base_uri": "https://localhost:8080/"
        },
        "id": "-_tQTSyjgtZL",
        "outputId": "f88a7d3a-b54b-4a91-8cfd-79ad9b20d4da"
      },
      "outputs": [
        {
          "name": "stdout",
          "output_type": "stream",
          "text": [
            "Requirement already satisfied: pysqlite3 in /usr/local/lib/python3.10/dist-packages (0.5.3)\n"
          ]
        }
      ],
      "source": [
        "!pip install pysqlite3\n",
        "import sqlite3"
      ]
    },
    {
      "cell_type": "code",
      "execution_count": null,
      "metadata": {
        "colab": {
          "base_uri": "https://localhost:8080/"
        },
        "id": "jO3flN5bexGC",
        "outputId": "cd879eaa-27be-4ea6-ad10-088bff9150f5"
      },
      "outputs": [
        {
          "name": "stdout",
          "output_type": "stream",
          "text": [
            "Query Execution Plan:\n",
            "(2, 0, 0, 'SCAN sales')\n"
          ]
        }
      ],
      "source": [
        "# Establish a connection to the SQLite database\n",
        "connection = sqlite3.connect(\"partitioned_data.db\")\n",
        "cursor = connection.cursor()\n",
        "\n",
        "# Create the main table\n",
        "create_table_query = \"\"\"\n",
        "CREATE TABLE IF NOT EXISTS sales (\n",
        "    sale_date DATE NOT NULL,\n",
        "    product_id INT,\n",
        "    amount DECIMAL(10,2)\n",
        ");\n",
        "\"\"\"\n",
        "cursor.execute(create_table_query)\n",
        "\n",
        "# Create partition tables\n",
        "create_partition_queries = [\n",
        "    \"\"\"\n",
        "    CREATE TABLE IF NOT EXISTS sales_2023_q1 (\n",
        "        sale_date DATE NOT NULL,\n",
        "        product_id INT,\n",
        "        amount DECIMAL(10,2)\n",
        "    );\n",
        "    \"\"\",\n",
        "    \"\"\"\n",
        "    CREATE TABLE IF NOT EXISTS sales_2023_q2 (\n",
        "        sale_date DATE NOT NULL,\n",
        "        product_id INT,\n",
        "        amount DECIMAL(10,2)\n",
        "    );\n",
        "    \"\"\",\n",
        "    \"\"\"\n",
        "    CREATE TABLE IF NOT EXISTS sales_2023_q3 (\n",
        "        sale_date DATE NOT NULL,\n",
        "        product_id INT,\n",
        "        amount DECIMAL(10,2)\n",
        "    );\n",
        "    \"\"\",\n",
        "    \"\"\"\n",
        "    CREATE TABLE IF NOT EXISTS sales_2023_q4 (\n",
        "        sale_date DATE NOT NULL,\n",
        "        product_id INT,\n",
        "        amount DECIMAL(10,2)\n",
        "    );\n",
        "    \"\"\"\n",
        "]\n",
        "\n",
        "for query in create_partition_queries:\n",
        "    cursor.execute(query)\n",
        "\n",
        "# Insert data into the correct partition based on the sale_date\n",
        "insert_data_query = \"\"\"\n",
        "INSERT INTO sales (sale_date, product_id, amount)\n",
        "VALUES (?, ?, ?)\n",
        "\"\"\"\n",
        "data = [\n",
        "    ('2023-02-15', 1001, 100.50),\n",
        "    ('2023-08-10', 1003, 150.25),\n",
        "    ('2023-11-30', 1004, 300.00)\n",
        "]\n",
        "\n",
        "for sale_date, product_id, amount in data:\n",
        "    if '2023-01-01' <= sale_date < '2023-04-01':\n",
        "        cursor.execute(insert_data_query, (sale_date, product_id, amount))\n",
        "    elif '2023-04-01' <= sale_date < '2023-07-01':\n",
        "        cursor.execute(insert_data_query, (sale_date, product_id, amount))\n",
        "    elif '2023-07-01' <= sale_date < '2023-10-01':\n",
        "        cursor.execute(insert_data_query, (sale_date, product_id, amount))\n",
        "    elif '2023-10-01' <= sale_date < '2024-01-01':\n",
        "        cursor.execute(insert_data_query, (sale_date, product_id, amount))\n",
        "\n",
        "connection.commit()\n",
        "\n",
        "# Query specific partition\n",
        "query_partition_query = \"\"\"\n",
        "EXPLAIN QUERY PLAN\n",
        "SELECT * FROM sales\n",
        "WHERE sale_date BETWEEN '2023-04-01' AND '2023-06-30';\n",
        "\"\"\"\n",
        "cursor.execute(query_partition_query)\n",
        "result = cursor.fetchall()\n",
        "print(\"Query Execution Plan:\")\n",
        "for row in result:\n",
        "    print(row)\n",
        "\n",
        "# Close the cursor and connection\n",
        "cursor.close()\n",
        "connection.close()"
      ]
    },
    {
      "cell_type": "markdown",
      "metadata": {
        "id": "CHr7EyoOqdgs"
      },
      "source": [
        "# Data modeling for scalability"
      ]
    },
    {
      "cell_type": "markdown",
      "metadata": {
        "id": "hWSRjxh7qhkj"
      },
      "source": [
        "- This example demonstrates a star schema design for sales data, which allows for efficient analytical queries\n",
        "by separating dimensional attributes from the central fact table."
      ]
    },
    {
      "cell_type": "code",
      "execution_count": null,
      "metadata": {
        "colab": {
          "base_uri": "https://localhost:8080/",
          "height": 346
        },
        "id": "B4kB9jWaiyXC",
        "outputId": "43d1c638-d5d2-44ef-8498-489757cc6387"
      },
      "outputs": [
        {
          "name": "stdout",
          "output_type": "stream",
          "text": [
            " * sqlite://\n",
            "Done.\n",
            "Done.\n",
            "Done.\n",
            "Done.\n",
            "Done.\n",
            "Done.\n",
            "Done.\n",
            "Done.\n",
            "2 rows affected.\n",
            "2 rows affected.\n",
            "2 rows affected.\n",
            "2 rows affected.\n",
            "Done.\n"
          ]
        },
        {
          "data": {
            "text/html": [
              "<table>\n",
              "    <thead>\n",
              "        <tr>\n",
              "            <th>category</th>\n",
              "            <th>year</th>\n",
              "            <th>quarter</th>\n",
              "            <th>total_sales</th>\n",
              "            <th>unique_customers</th>\n",
              "        </tr>\n",
              "    </thead>\n",
              "    <tbody>\n",
              "        <tr>\n",
              "            <td>Electronics</td>\n",
              "            <td>2023</td>\n",
              "            <td>1</td>\n",
              "            <td>199.99</td>\n",
              "            <td>1</td>\n",
              "        </tr>\n",
              "        <tr>\n",
              "            <td>Clothing</td>\n",
              "            <td>2023</td>\n",
              "            <td>2</td>\n",
              "            <td>299.99</td>\n",
              "            <td>1</td>\n",
              "        </tr>\n",
              "    </tbody>\n",
              "</table>"
            ],
            "text/plain": [
              "[('Electronics', 2023, 1, 199.99, 1), ('Clothing', 2023, 2, 299.99, 1)]"
            ]
          },
          "execution_count": 17,
          "metadata": {},
          "output_type": "execute_result"
        }
      ],
      "source": [
        "%%sql\n",
        "\n",
        "-- Drop existing tables if they exist\n",
        "DROP TABLE IF EXISTS dim_product;\n",
        "DROP TABLE IF EXISTS dim_customer;\n",
        "DROP TABLE IF EXISTS dim_date;\n",
        "DROP TABLE IF EXISTS fact_sales;\n",
        "\n",
        "-- Create dimension tables\n",
        "CREATE TABLE dim_product (\n",
        "    product_id INT PRIMARY KEY,\n",
        "    product_name VARCHAR(100),\n",
        "    category VARCHAR(50),\n",
        "    brand VARCHAR(50)\n",
        ");\n",
        "\n",
        "CREATE TABLE dim_customer (\n",
        "    customer_id INT PRIMARY KEY,\n",
        "    customer_name VARCHAR(100),\n",
        "    city VARCHAR(50),\n",
        "    state VARCHAR(50)\n",
        ");\n",
        "\n",
        "CREATE TABLE dim_date (\n",
        "    date_id DATE PRIMARY KEY,\n",
        "    year INT,\n",
        "    month INT,\n",
        "    day INT,\n",
        "    quarter INT\n",
        ");\n",
        "\n",
        "-- Create fact table\n",
        "CREATE TABLE fact_sales (\n",
        "    sale_id INT PRIMARY KEY,\n",
        "    date_id DATE,\n",
        "    product_id INT,\n",
        "    customer_id INT,\n",
        "    quantity INT,\n",
        "    amount DECIMAL(10,2),\n",
        "    FOREIGN KEY (date_id) REFERENCES dim_date(date_id),\n",
        "    FOREIGN KEY (product_id) REFERENCES dim_product(product_id),\n",
        "    FOREIGN KEY (customer_id) REFERENCES dim_customer(customer_id)\n",
        ");\n",
        "\n",
        "-- Insert sample data into dimension tables\n",
        "INSERT INTO dim_product (product_id, product_name, category, brand) VALUES\n",
        "(1, 'Product A', 'Electronics', 'BrandX'),\n",
        "(2, 'Product B', 'Clothing', 'BrandY');\n",
        "\n",
        "INSERT INTO dim_customer (customer_id, customer_name, city, state) VALUES\n",
        "(1, 'Alice', 'New York', 'NY'),\n",
        "(2, 'Bob', 'Los Angeles', 'CA');\n",
        "\n",
        "INSERT INTO dim_date (date_id, year, month, day, quarter) VALUES\n",
        "('2023-01-01', 2023, 1, 1, 1),\n",
        "('2023-04-01', 2023, 4, 1, 2);\n",
        "\n",
        "-- Insert data into fact table\n",
        "INSERT INTO fact_sales (sale_id, date_id, product_id, customer_id, quantity, amount) VALUES\n",
        "(1, '2023-01-01', 1, 1, 10, 199.99),\n",
        "(2, '2023-04-01', 2, 2, 5, 299.99);\n",
        "\n",
        "-- Example query for sales analysis\n",
        "SELECT\n",
        "    dp.category,\n",
        "    dd.year,\n",
        "    dd.quarter,\n",
        "    SUM(fs.amount) as total_sales,\n",
        "    COUNT(DISTINCT fs.customer_id) as unique_customers\n",
        "FROM\n",
        "    fact_sales fs\n",
        "JOIN\n",
        "    dim_product dp ON fs.product_id = dp.product_id\n",
        "JOIN\n",
        "    dim_date dd ON fs.date_id = dd.date_id\n",
        "GROUP BY\n",
        "    dp.category, dd.year, dd.quarter\n",
        "ORDER BY\n",
        "    dd.year, dd.quarter, total_sales DESC;"
      ]
    }
  ],
  "metadata": {
    "colab": {
      "provenance": []
    },
    "kernelspec": {
      "display_name": "Python 3",
      "name": "python3"
    },
    "language_info": {
      "name": "python"
    }
  },
  "nbformat": 4,
  "nbformat_minor": 0
}
